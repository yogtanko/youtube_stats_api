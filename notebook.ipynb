{
 "cells": [
  {
   "cell_type": "code",
   "execution_count": 1,
   "metadata": {},
   "outputs": [],
   "source": [
    "from googleapiclient.discovery import build\n",
    "from IPython.display import JSON\n",
    "import pandas as pd\n",
    "from dateutil import parser\n",
    "import api_key as ak"
   ]
  },
  {
   "cell_type": "code",
   "execution_count": 2,
   "metadata": {},
   "outputs": [],
   "source": [
    "api_key = ak.api_key"
   ]
  },
  {
   "cell_type": "code",
   "execution_count": 3,
   "metadata": {},
   "outputs": [],
   "source": [
    "channel_ids = [\"UCjLEmnpCNeisMxy134KPwWw\",]"
   ]
  },
  {
   "cell_type": "code",
   "execution_count": 4,
   "metadata": {},
   "outputs": [],
   "source": [
    "api_service_name = \"youtube\"\n",
    "api_version = \"v3\"\n",
    "\n",
    "youtube = build(\n",
    "    api_service_name, api_version, developerKey=api_key)\n"
   ]
  },
  {
   "cell_type": "code",
   "execution_count": 5,
   "metadata": {},
   "outputs": [],
   "source": [
    "def get_channel_stats(youtube,channel_ids):\n",
    "    all_data=[]\n",
    "    request = youtube.channels().list(\n",
    "        part=\"contentDetails,statistics,snippet\",\n",
    "        id=\",\".join(channel_ids)\n",
    "    )\n",
    "    response = request.execute()\n",
    "\n",
    "    for item in response['items']:\n",
    "        data = {\n",
    "            'channelName': item['snippet']['title'],\n",
    "            'subscribers': item['statistics']['subscriberCount'],\n",
    "            'views': item['statistics']['viewCount'],\n",
    "            'totalVideo': item['statistics']['videoCount'],\n",
    "            'playlistId': item['contentDetails']['relatedPlaylists']['uploads']\n",
    "        }\n",
    "        all_data.append(data)\n",
    "    return (pd.DataFrame(all_data))"
   ]
  },
  {
   "cell_type": "code",
   "execution_count": 6,
   "metadata": {},
   "outputs": [],
   "source": [
    "channel_stats = get_channel_stats(youtube,channel_ids)"
   ]
  },
  {
   "cell_type": "code",
   "execution_count": 7,
   "metadata": {},
   "outputs": [
    {
     "data": {
      "text/html": [
       "<div>\n",
       "<style scoped>\n",
       "    .dataframe tbody tr th:only-of-type {\n",
       "        vertical-align: middle;\n",
       "    }\n",
       "\n",
       "    .dataframe tbody tr th {\n",
       "        vertical-align: top;\n",
       "    }\n",
       "\n",
       "    .dataframe thead th {\n",
       "        text-align: right;\n",
       "    }\n",
       "</style>\n",
       "<table border=\"1\" class=\"dataframe\">\n",
       "  <thead>\n",
       "    <tr style=\"text-align: right;\">\n",
       "      <th></th>\n",
       "      <th>channelName</th>\n",
       "      <th>subscribers</th>\n",
       "      <th>views</th>\n",
       "      <th>totalVideo</th>\n",
       "      <th>playlistId</th>\n",
       "    </tr>\n",
       "  </thead>\n",
       "  <tbody>\n",
       "    <tr>\n",
       "      <th>0</th>\n",
       "      <td>Kobo Kanaeru Ch. hololive-ID</td>\n",
       "      <td>2410000</td>\n",
       "      <td>152341392</td>\n",
       "      <td>458</td>\n",
       "      <td>UUjLEmnpCNeisMxy134KPwWw</td>\n",
       "    </tr>\n",
       "  </tbody>\n",
       "</table>\n",
       "</div>"
      ],
      "text/plain": [
       "                    channelName subscribers      views totalVideo  \\\n",
       "0  Kobo Kanaeru Ch. hololive-ID     2410000  152341392        458   \n",
       "\n",
       "                 playlistId  \n",
       "0  UUjLEmnpCNeisMxy134KPwWw  "
      ]
     },
     "execution_count": 7,
     "metadata": {},
     "output_type": "execute_result"
    }
   ],
   "source": [
    "channel_stats"
   ]
  },
  {
   "cell_type": "code",
   "execution_count": 8,
   "metadata": {},
   "outputs": [],
   "source": [
    "def get_video_ids(youtube,playlist_id):\n",
    "    video_ids = []\n",
    "    request = youtube.playlistItems().list(\n",
    "        part=\"contentDetails\",\n",
    "        playlistId=playlist_id,\n",
    "        maxResults = 50)\n",
    "    response = request.execute()\n",
    "\n",
    "    for item in response['items']:\n",
    "        video_ids.append(item['contentDetails']['videoId'])\n",
    "\n",
    "    next_page_token = response.get('nextPageToken')\n",
    "    \n",
    "    while next_page_token is not None:\n",
    "        request = youtube.playlistItems().list(\n",
    "            part=\"contentDetails\",\n",
    "            playlistId=playlist_id,\n",
    "            maxResults = 50,\n",
    "            pageToken =next_page_token)\n",
    "        response = request.execute()\n",
    "        for item in response['items']:\n",
    "            video_ids.append(item['contentDetails']['videoId'])\n",
    "        next_page_token = response.get('nextPageToken')\n",
    "    return video_ids"
   ]
  },
  {
   "cell_type": "code",
   "execution_count": 9,
   "metadata": {},
   "outputs": [],
   "source": [
    "video_ids = get_video_ids(youtube,channel_stats['playlistId'][0])"
   ]
  },
  {
   "cell_type": "code",
   "execution_count": 10,
   "metadata": {},
   "outputs": [
    {
     "data": {
      "text/plain": [
       "428"
      ]
     },
     "execution_count": 10,
     "metadata": {},
     "output_type": "execute_result"
    }
   ],
   "source": [
    "len(video_ids)"
   ]
  },
  {
   "cell_type": "code",
   "execution_count": 11,
   "metadata": {},
   "outputs": [],
   "source": [
    "def get_video_details(youtube,video_ids):\n",
    "    all_video_info = []\n",
    "    stats_to_keep = {\n",
    "        'snippet':['channelTitle','title','description','tags','publishedAt'],\n",
    "        'statistics':['viewCount','likeCount','commentCount'],\n",
    "        'contentDetails':['duration','definition','caption'],\n",
    "        'liveStreamingDetails':['actualStartTime','actualEndTime','scheduledStartTime','scheduledEndTime','concurrentViewers','activeLiveChatId']\n",
    "    }\n",
    "    for i in range (0,len(video_ids),50):\n",
    "        request = youtube.videos().list(\n",
    "            part=\"snippet,statistics,contentDetails,liveStreamingDetails\",\n",
    "            id=','.join(video_ids[i:i+50])\n",
    "        )\n",
    "        response = request.execute()\n",
    "\n",
    "        for video in response['items']:\n",
    "            video_info = {}\n",
    "            video_info['video_id'] = video['id']\n",
    "\n",
    "            for k in stats_to_keep.keys():\n",
    "                for v in stats_to_keep[k]:\n",
    "                    try:\n",
    "                        video_info[v] = video[k][v]\n",
    "                    except:\n",
    "                        video_info[v] = None\n",
    "            \n",
    "            all_video_info.append(video_info)\n",
    "    \n",
    "    return pd.DataFrame(all_video_info)"
   ]
  },
  {
   "cell_type": "code",
   "execution_count": 12,
   "metadata": {},
   "outputs": [],
   "source": [
    "video_df = get_video_details(youtube,video_ids)"
   ]
  },
  {
   "cell_type": "code",
   "execution_count": 13,
   "metadata": {},
   "outputs": [],
   "source": [
    "video_df['tagsCount'] = video_df['tags'].str.len()"
   ]
  },
  {
   "cell_type": "code",
   "execution_count": 14,
   "metadata": {},
   "outputs": [],
   "source": [
    "numeric_cols = ['viewCount','likeCount','commentCount','tagsCount']\n",
    "video_df[numeric_cols] = video_df[numeric_cols].apply(pd.to_numeric,errors='coerce',axis=1)"
   ]
  },
  {
   "cell_type": "code",
   "execution_count": 15,
   "metadata": {},
   "outputs": [
    {
     "data": {
      "text/html": [
       "<div>\n",
       "<style scoped>\n",
       "    .dataframe tbody tr th:only-of-type {\n",
       "        vertical-align: middle;\n",
       "    }\n",
       "\n",
       "    .dataframe tbody tr th {\n",
       "        vertical-align: top;\n",
       "    }\n",
       "\n",
       "    .dataframe thead th {\n",
       "        text-align: right;\n",
       "    }\n",
       "</style>\n",
       "<table border=\"1\" class=\"dataframe\">\n",
       "  <thead>\n",
       "    <tr style=\"text-align: right;\">\n",
       "      <th></th>\n",
       "      <th>video_id</th>\n",
       "      <th>channelTitle</th>\n",
       "      <th>title</th>\n",
       "      <th>description</th>\n",
       "      <th>tags</th>\n",
       "      <th>publishedAt</th>\n",
       "      <th>viewCount</th>\n",
       "      <th>likeCount</th>\n",
       "      <th>commentCount</th>\n",
       "      <th>duration</th>\n",
       "      <th>definition</th>\n",
       "      <th>caption</th>\n",
       "      <th>actualStartTime</th>\n",
       "      <th>actualEndTime</th>\n",
       "      <th>scheduledStartTime</th>\n",
       "      <th>scheduledEndTime</th>\n",
       "      <th>concurrentViewers</th>\n",
       "      <th>activeLiveChatId</th>\n",
       "      <th>tagsCount</th>\n",
       "    </tr>\n",
       "  </thead>\n",
       "  <tbody>\n",
       "    <tr>\n",
       "      <th>0</th>\n",
       "      <td>xSJYWm_ufmw</td>\n",
       "      <td>Kobo Kanaeru Ch. hololive-ID</td>\n",
       "      <td>【Tekken 8】KOBO COBA GAME BERANTEM UNTUK PERTAM...</td>\n",
       "      <td>==================================\\nDONASI LOK...</td>\n",
       "      <td>[indo, indonesia, indonesian, person, story, c...</td>\n",
       "      <td>2024-05-06T11:00:11Z</td>\n",
       "      <td>0.0</td>\n",
       "      <td>87.0</td>\n",
       "      <td>0.0</td>\n",
       "      <td>P0D</td>\n",
       "      <td>sd</td>\n",
       "      <td>false</td>\n",
       "      <td>None</td>\n",
       "      <td>None</td>\n",
       "      <td>2024-05-06T14:00:00Z</td>\n",
       "      <td>None</td>\n",
       "      <td>None</td>\n",
       "      <td>Cg0KC3hTSllXbV91Zm13KicKGFVDakxFbW5wQ05laXNNeH...</td>\n",
       "      <td>53.0</td>\n",
       "    </tr>\n",
       "  </tbody>\n",
       "</table>\n",
       "</div>"
      ],
      "text/plain": [
       "      video_id                  channelTitle  \\\n",
       "0  xSJYWm_ufmw  Kobo Kanaeru Ch. hololive-ID   \n",
       "\n",
       "                                               title  \\\n",
       "0  【Tekken 8】KOBO COBA GAME BERANTEM UNTUK PERTAM...   \n",
       "\n",
       "                                         description  \\\n",
       "0  ==================================\\nDONASI LOK...   \n",
       "\n",
       "                                                tags           publishedAt  \\\n",
       "0  [indo, indonesia, indonesian, person, story, c...  2024-05-06T11:00:11Z   \n",
       "\n",
       "   viewCount  likeCount  commentCount duration definition caption  \\\n",
       "0        0.0       87.0           0.0      P0D         sd   false   \n",
       "\n",
       "  actualStartTime actualEndTime    scheduledStartTime scheduledEndTime  \\\n",
       "0            None          None  2024-05-06T14:00:00Z             None   \n",
       "\n",
       "  concurrentViewers                                   activeLiveChatId  \\\n",
       "0              None  Cg0KC3hTSllXbV91Zm13KicKGFVDakxFbW5wQ05laXNNeH...   \n",
       "\n",
       "   tagsCount  \n",
       "0       53.0  "
      ]
     },
     "execution_count": 15,
     "metadata": {},
     "output_type": "execute_result"
    }
   ],
   "source": [
    "video_df.head(1)"
   ]
  },
  {
   "cell_type": "code",
   "execution_count": 16,
   "metadata": {},
   "outputs": [
    {
     "data": {
      "text/plain": [
       "video_id                0\n",
       "channelTitle            0\n",
       "title                   0\n",
       "description             0\n",
       "tags                  241\n",
       "publishedAt             0\n",
       "viewCount               0\n",
       "likeCount               0\n",
       "commentCount            1\n",
       "duration                0\n",
       "definition              0\n",
       "caption                 0\n",
       "actualStartTime        19\n",
       "actualEndTime          19\n",
       "scheduledStartTime     18\n",
       "scheduledEndTime      428\n",
       "concurrentViewers     428\n",
       "activeLiveChatId      426\n",
       "tagsCount             241\n",
       "dtype: int64"
      ]
     },
     "execution_count": 16,
     "metadata": {},
     "output_type": "execute_result"
    }
   ],
   "source": [
    "video_df.isnull().sum()"
   ]
  },
  {
   "cell_type": "code",
   "execution_count": 17,
   "metadata": {},
   "outputs": [],
   "source": [
    "def convert_to_date_time(date):\n",
    "    try:\n",
    "        return parser.parse(date)\n",
    "    except:\n",
    "        return None"
   ]
  },
  {
   "cell_type": "code",
   "execution_count": 18,
   "metadata": {},
   "outputs": [],
   "source": [
    "date_time_cols = ['publishedAt','actualStartTime','actualEndTime','scheduledStartTime','scheduledEndTime']\n",
    "video_df[date_time_cols] = video_df[date_time_cols].apply(lambda x: [convert_to_date_time(item) for item in x ])\n",
    "video_df['publishDayName'] = video_df['publishedAt'].apply(lambda x: x.strftime(\"%A\"))"
   ]
  },
  {
   "cell_type": "code",
   "execution_count": 19,
   "metadata": {},
   "outputs": [
    {
     "data": {
      "text/html": [
       "<div>\n",
       "<style scoped>\n",
       "    .dataframe tbody tr th:only-of-type {\n",
       "        vertical-align: middle;\n",
       "    }\n",
       "\n",
       "    .dataframe tbody tr th {\n",
       "        vertical-align: top;\n",
       "    }\n",
       "\n",
       "    .dataframe thead th {\n",
       "        text-align: right;\n",
       "    }\n",
       "</style>\n",
       "<table border=\"1\" class=\"dataframe\">\n",
       "  <thead>\n",
       "    <tr style=\"text-align: right;\">\n",
       "      <th></th>\n",
       "      <th>video_id</th>\n",
       "      <th>channelTitle</th>\n",
       "      <th>title</th>\n",
       "      <th>description</th>\n",
       "      <th>tags</th>\n",
       "      <th>publishedAt</th>\n",
       "      <th>viewCount</th>\n",
       "      <th>likeCount</th>\n",
       "      <th>commentCount</th>\n",
       "      <th>duration</th>\n",
       "      <th>...</th>\n",
       "      <th>caption</th>\n",
       "      <th>actualStartTime</th>\n",
       "      <th>actualEndTime</th>\n",
       "      <th>scheduledStartTime</th>\n",
       "      <th>scheduledEndTime</th>\n",
       "      <th>concurrentViewers</th>\n",
       "      <th>activeLiveChatId</th>\n",
       "      <th>tagsCount</th>\n",
       "      <th>publishDayName</th>\n",
       "      <th>durationSecs</th>\n",
       "    </tr>\n",
       "  </thead>\n",
       "  <tbody>\n",
       "    <tr>\n",
       "      <th>427</th>\n",
       "      <td>4ko8ZH4boWU</td>\n",
       "      <td>Kobo Kanaeru Ch. hololive-ID</td>\n",
       "      <td>3007kk のライブ配信</td>\n",
       "      <td></td>\n",
       "      <td>None</td>\n",
       "      <td>2022-02-28 05:29:28+00:00</td>\n",
       "      <td>0.0</td>\n",
       "      <td>14.0</td>\n",
       "      <td>0.0</td>\n",
       "      <td>P0D</td>\n",
       "      <td>...</td>\n",
       "      <td>false</td>\n",
       "      <td>NaT</td>\n",
       "      <td>NaT</td>\n",
       "      <td>NaT</td>\n",
       "      <td>None</td>\n",
       "      <td>None</td>\n",
       "      <td>Cg0KCzRrbzhaSDRib1dVKicKGFVDakxFbW5wQ05laXNNeH...</td>\n",
       "      <td>NaN</td>\n",
       "      <td>Monday</td>\n",
       "      <td>0.0</td>\n",
       "    </tr>\n",
       "  </tbody>\n",
       "</table>\n",
       "<p>1 rows × 21 columns</p>\n",
       "</div>"
      ],
      "text/plain": [
       "        video_id                  channelTitle          title description  \\\n",
       "427  4ko8ZH4boWU  Kobo Kanaeru Ch. hololive-ID  3007kk のライブ配信               \n",
       "\n",
       "     tags               publishedAt  viewCount  likeCount  commentCount  \\\n",
       "427  None 2022-02-28 05:29:28+00:00        0.0       14.0           0.0   \n",
       "\n",
       "    duration  ... caption actualStartTime actualEndTime scheduledStartTime  \\\n",
       "427      P0D  ...   false             NaT           NaT                NaT   \n",
       "\n",
       "    scheduledEndTime concurrentViewers  \\\n",
       "427             None              None   \n",
       "\n",
       "                                      activeLiveChatId tagsCount  \\\n",
       "427  Cg0KCzRrbzhaSDRib1dVKicKGFVDakxFbW5wQ05laXNNeH...       NaN   \n",
       "\n",
       "     publishDayName durationSecs  \n",
       "427          Monday          0.0  \n",
       "\n",
       "[1 rows x 21 columns]"
      ]
     },
     "execution_count": 19,
     "metadata": {},
     "output_type": "execute_result"
    }
   ],
   "source": [
    "import isodate\n",
    "video_df['durationSecs'] = video_df['duration'].apply(lambda x:isodate.parse_duration(x).total_seconds())\n",
    "video_df[video_df[\"video_id\"]==\"4ko8ZH4boWU\"]\n"
   ]
  },
  {
   "cell_type": "code",
   "execution_count": 20,
   "metadata": {},
   "outputs": [
    {
     "data": {
      "text/plain": [
       "427"
      ]
     },
     "execution_count": 20,
     "metadata": {},
     "output_type": "execute_result"
    }
   ],
   "source": [
    "import numpy as np\n",
    "video_df['tags'] = video_df['tags'].to_json()\n",
    "video_df = video_df.drop(video_df[video_df.video_id == \"4ko8ZH4boWU\"].index)\n",
    "len(video_df)"
   ]
  },
  {
   "cell_type": "code",
   "execution_count": 21,
   "metadata": {},
   "outputs": [],
   "source": [
    "video_df.to_csv('out.csv', index=False)"
   ]
  },
  {
   "cell_type": "markdown",
   "metadata": {},
   "source": [
    "#UPLOAD TO GBQ"
   ]
  },
  {
   "cell_type": "code",
   "execution_count": 22,
   "metadata": {},
   "outputs": [],
   "source": [
    "from google.oauth2 import service_account\n",
    "pk_json_input = \"youtube-api-422410-d3df76a1cd66.json\"\n",
    "auth = service_account.Credentials.from_service_account_file(pk_json_input)"
   ]
  },
  {
   "cell_type": "code",
   "execution_count": 23,
   "metadata": {},
   "outputs": [
    {
     "name": "stderr",
     "output_type": "stream",
     "text": [
      "C:\\Users\\tanok\\AppData\\Local\\Temp\\ipykernel_13284\\1656546677.py:1: FutureWarning: to_gbq is deprecated and will be removed in a future version. Please use pandas_gbq.to_gbq instead: https://pandas-gbq.readthedocs.io/en/latest/api.html#pandas_gbq.to_gbq\n",
      "  video_df.to_gbq(\n"
     ]
    }
   ],
   "source": [
    "video_df.to_gbq(\n",
    "'youtube_stats_data.youtube_stats_table',credentials=auth, if_exists='replace',\n",
    ")"
   ]
  }
 ],
 "metadata": {
  "kernelspec": {
   "display_name": "myenv",
   "language": "python",
   "name": "python3"
  },
  "language_info": {
   "codemirror_mode": {
    "name": "ipython",
    "version": 3
   },
   "file_extension": ".py",
   "mimetype": "text/x-python",
   "name": "python",
   "nbconvert_exporter": "python",
   "pygments_lexer": "ipython3",
   "version": "3.11.2"
  }
 },
 "nbformat": 4,
 "nbformat_minor": 2
}
